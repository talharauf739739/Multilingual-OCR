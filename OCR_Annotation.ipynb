{
  "nbformat": 4,
  "nbformat_minor": 0,
  "metadata": {
    "colab": {
      "provenance": []
    },
    "kernelspec": {
      "name": "python3",
      "display_name": "Python 3"
    },
    "language_info": {
      "name": "python"
    }
  },
  "cells": [
    {
      "cell_type": "code",
      "execution_count": null,
      "metadata": {
        "colab": {
          "base_uri": "https://localhost:8080/"
        },
        "id": "6hWmIvfMLuT1",
        "outputId": "65603a76-2781-4083-a5bc-fd57c3663a8b"
      },
      "outputs": [
        {
          "output_type": "stream",
          "name": "stdout",
          "text": [
            "Collecting labelImg\n",
            "  Downloading labelImg-1.8.6.tar.gz (247 kB)\n",
            "\u001b[?25l     \u001b[90m━━━━━━━━━━━━━━━━━━━━━━━━━━━━━━━━━━━━━━━━\u001b[0m \u001b[32m0.0/247.7 kB\u001b[0m \u001b[31m?\u001b[0m eta \u001b[36m-:--:--\u001b[0m\r\u001b[2K     \u001b[91m━━━━━━━━━━━━━━━━━━━━━━━━━━\u001b[0m\u001b[90m╺\u001b[0m\u001b[90m━━━━━━━━━━━━━\u001b[0m \u001b[32m163.8/247.7 kB\u001b[0m \u001b[31m4.5 MB/s\u001b[0m eta \u001b[36m0:00:01\u001b[0m\r\u001b[2K     \u001b[90m━━━━━━━━━━━━━━━━━━━━━━━━━━━━━━━━━━━━━━━━\u001b[0m \u001b[32m247.7/247.7 kB\u001b[0m \u001b[31m3.4 MB/s\u001b[0m eta \u001b[36m0:00:00\u001b[0m\n",
            "\u001b[?25h  Preparing metadata (setup.py) ... \u001b[?25l\u001b[?25hdone\n",
            "Collecting pyqt5 (from labelImg)\n",
            "  Downloading PyQt5-5.15.11-cp38-abi3-manylinux_2_17_x86_64.whl.metadata (2.1 kB)\n",
            "Requirement already satisfied: lxml in /usr/local/lib/python3.10/dist-packages (from labelImg) (4.9.4)\n",
            "Collecting PyQt5-sip<13,>=12.15 (from pyqt5->labelImg)\n",
            "  Downloading PyQt5_sip-12.15.0-cp310-cp310-manylinux_2_5_x86_64.manylinux1_x86_64.whl.metadata (421 bytes)\n",
            "Collecting PyQt5-Qt5<5.16.0,>=5.15.2 (from pyqt5->labelImg)\n",
            "  Downloading PyQt5_Qt5-5.15.14-py3-none-manylinux2014_x86_64.whl.metadata (536 bytes)\n",
            "Downloading PyQt5-5.15.11-cp38-abi3-manylinux_2_17_x86_64.whl (8.2 MB)\n",
            "\u001b[2K   \u001b[90m━━━━━━━━━━━━━━━━━━━━━━━━━━━━━━━━━━━━━━━━\u001b[0m \u001b[32m8.2/8.2 MB\u001b[0m \u001b[31m38.8 MB/s\u001b[0m eta \u001b[36m0:00:00\u001b[0m\n",
            "\u001b[?25hDownloading PyQt5_Qt5-5.15.14-py3-none-manylinux2014_x86_64.whl (60.5 MB)\n",
            "\u001b[2K   \u001b[90m━━━━━━━━━━━━━━━━━━━━━━━━━━━━━━━━━━━━━━━━\u001b[0m \u001b[32m60.5/60.5 MB\u001b[0m \u001b[31m10.4 MB/s\u001b[0m eta \u001b[36m0:00:00\u001b[0m\n",
            "\u001b[?25hDownloading PyQt5_sip-12.15.0-cp310-cp310-manylinux_2_5_x86_64.manylinux1_x86_64.whl (270 kB)\n",
            "\u001b[2K   \u001b[90m━━━━━━━━━━━━━━━━━━━━━━━━━━━━━━━━━━━━━━━━\u001b[0m \u001b[32m270.5/270.5 kB\u001b[0m \u001b[31m11.8 MB/s\u001b[0m eta \u001b[36m0:00:00\u001b[0m\n",
            "\u001b[?25hBuilding wheels for collected packages: labelImg\n",
            "  Building wheel for labelImg (setup.py) ... \u001b[?25l\u001b[?25hdone\n",
            "  Created wheel for labelImg: filename=labelImg-1.8.6-py2.py3-none-any.whl size=261520 sha256=461b35f383ff845cce610379073e5c05af6adf512f372d319c53e568bb94b818\n",
            "  Stored in directory: /root/.cache/pip/wheels/d9/f0/1e/74c509495458cad13a0fda23fe605e643177625cf2b5c17b34\n",
            "Successfully built labelImg\n",
            "Installing collected packages: PyQt5-Qt5, PyQt5-sip, pyqt5, labelImg\n",
            "Successfully installed PyQt5-Qt5-5.15.14 PyQt5-sip-12.15.0 labelImg-1.8.6 pyqt5-5.15.11\n"
          ]
        }
      ],
      "source": [
        "!pip install labelImg\n"
      ]
    },
    {
      "cell_type": "code",
      "source": [
        "import labelImg"
      ],
      "metadata": {
        "id": "ZyNTmsl7MCBH"
      },
      "execution_count": null,
      "outputs": []
    },
    {
      "cell_type": "code",
      "source": [
        "import os\n",
        "import xml.etree.ElementTree as ET\n",
        "\n",
        "def parse_annotations(annotation_dir):\n",
        "    annotations = []\n",
        "    for file in os.listdir(annotation_dir):\n",
        "        if file.endswith('.xml'):\n",
        "            tree = ET.parse(os.path.join(annotation_dir, file))\n",
        "            root = tree.getroot()\n",
        "\n",
        "            for obj in root.findall('object'):\n",
        "                label = obj.find('name').text\n",
        "                bbox = obj.find('bndbox')\n",
        "                xmin = int(bbox.find('xmin').text)\n",
        "                ymin = int(bbox.find('ymin').text)\n",
        "                xmax = int(bbox.find('xmax').text)\n",
        "                ymax = int(bbox.find('ymax').text)\n",
        "\n",
        "                annotation = {\n",
        "                    'image': root.find('filename').text,\n",
        "                    'label': label,\n",
        "                    'bbox': [xmin, ymin, xmax, ymax]\n",
        "                }\n",
        "                annotations.append(annotation)\n",
        "    return annotations\n",
        "\n",
        "# Example usage\n",
        "annotation_dir = 'path_to_your_annotation_files'\n",
        "annotations = parse_annotations(annotation_dir)\n",
        "\n",
        "for annotation in annotations:\n",
        "    print(annotation)\n"
      ],
      "metadata": {
        "id": "mWMc7aP7L1no"
      },
      "execution_count": null,
      "outputs": []
    },
    {
      "cell_type": "code",
      "source": [
        "import cv2\n",
        "from easyocr import Reader\n",
        "\n",
        "# Initialize EasyOCR reader\n",
        "reader = Reader(['ur'])  # 'ur' for Urdu\n",
        "\n",
        "def perform_ocr(image_path, bbox):\n",
        "    image = cv2.imread(image_path)\n",
        "    xmin, ymin, xmax, ymax = bbox\n",
        "    roi = image[ymin:ymax, xmin:xmax]  # Crop the region of interest (ROI)\n",
        "\n",
        "    result = reader.readtext(roi)\n",
        "    return result\n",
        "\n",
        "# Example usage\n",
        "image_path = 'path_to_your_image.jpg'\n",
        "bbox = [xmin, ymin, xmax, ymax]  # Example bounding box\n",
        "text = perform_ocr(image_path, bbox)\n",
        "\n",
        "print(text)\n"
      ],
      "metadata": {
        "id": "-Y_9xJK-MAD8"
      },
      "execution_count": null,
      "outputs": []
    }
  ]
}